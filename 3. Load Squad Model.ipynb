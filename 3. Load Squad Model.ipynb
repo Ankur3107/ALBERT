{
 "cells": [
  {
   "cell_type": "code",
   "execution_count": 1,
   "metadata": {},
   "outputs": [],
   "source": [
    "import tensorflow as tf\n",
    "import sys\n",
    "sys.path.insert(0,'/tf/Ankur_Workspace/albert/ALBERT-TF2.0')\n",
    "from albert import AlbertConfig, get_albert_model, AlbertModel\n",
    "from run_squad import get_model_v1, ALBertSquadLogitsLayer"
   ]
  },
  {
   "cell_type": "code",
   "execution_count": 2,
   "metadata": {},
   "outputs": [],
   "source": [
    "def build_squad_albert_model(config_path, max_seq_length, weight_path, learning_rate, num_train_steps, num_warmup_steps):\n",
    "    albert_config = AlbertConfig.from_json_file(config_path)\n",
    "    model = get_model_v1(albert_config, max_seq_length,\n",
    "                                 weight_path, learning_rate,\n",
    "                                 num_train_steps, num_warmup_steps)\n",
    "    \n",
    "    return model"
   ]
  },
  {
   "cell_type": "code",
   "execution_count": 3,
   "metadata": {},
   "outputs": [],
   "source": [
    "model_dir = 'ALBERT-TF2.0/squad_out_v1.1/'"
   ]
  },
  {
   "cell_type": "code",
   "execution_count": 4,
   "metadata": {},
   "outputs": [],
   "source": [
    "config_path = 'ALBERT-TF2.0/model_configs/xxlarge/config.json'\n",
    "max_seq_length = 512\n",
    "weight_path = 'ALBERT-TF2.0/squad_out_v1.1/ctl_step_11097.ckpt-3'\n",
    "learning_rate = 2e5\n",
    "num_train_steps = None\n",
    "num_warmup_steps = None\n",
    "\n",
    "model = build_squad_albert_model(config_path, max_seq_length, None, learning_rate, num_train_steps, num_warmup_steps)"
   ]
  },
  {
   "cell_type": "code",
   "execution_count": 9,
   "metadata": {},
   "outputs": [
    {
     "name": "stdout",
     "output_type": "stream",
     "text": [
      "Restoring checkpoints from %s ALBERT-TF2.0/squad_out_v1.1/ctl_step_11097.ckpt-3\n"
     ]
    }
   ],
   "source": [
    "checkpoint_path = tf.train.latest_checkpoint(model_dir)\n",
    "print('Restoring checkpoints from %s', checkpoint_path)"
   ]
  },
  {
   "cell_type": "code",
   "execution_count": 11,
   "metadata": {},
   "outputs": [
    {
     "data": {
      "text/plain": [
       "<tensorflow.python.training.tracking.util.CheckpointLoadStatus at 0x7f1eb863c860>"
      ]
     },
     "execution_count": 11,
     "metadata": {},
     "output_type": "execute_result"
    }
   ],
   "source": [
    "checkpoint = tf.train.Checkpoint(model=model)\n",
    "checkpoint.restore(checkpoint_path).expect_partial()"
   ]
  },
  {
   "cell_type": "code",
   "execution_count": null,
   "metadata": {},
   "outputs": [],
   "source": []
  }
 ],
 "metadata": {
  "kernelspec": {
   "display_name": "Python 3",
   "language": "python",
   "name": "python3"
  },
  "language_info": {
   "codemirror_mode": {
    "name": "ipython",
    "version": 3
   },
   "file_extension": ".py",
   "mimetype": "text/x-python",
   "name": "python",
   "nbconvert_exporter": "python",
   "pygments_lexer": "ipython3",
   "version": "3.6.8"
  }
 },
 "nbformat": 4,
 "nbformat_minor": 2
}

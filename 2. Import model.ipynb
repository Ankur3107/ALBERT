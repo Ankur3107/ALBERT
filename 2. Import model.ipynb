{
 "cells": [
  {
   "cell_type": "code",
   "execution_count": 1,
   "metadata": {},
   "outputs": [],
   "source": [
    "import tensorflow as tf"
   ]
  },
  {
   "cell_type": "code",
   "execution_count": 2,
   "metadata": {},
   "outputs": [],
   "source": [
    "import sys"
   ]
  },
  {
   "cell_type": "code",
   "execution_count": 3,
   "metadata": {},
   "outputs": [],
   "source": [
    "sys.path.insert(0,'/Users/ankur.kumar/Desktop/Personal/Projects/open source projects/ALBERT/ALBERT-TF2.0')"
   ]
  },
  {
   "cell_type": "code",
   "execution_count": 4,
   "metadata": {},
   "outputs": [],
   "source": [
    "from albert import AlbertConfig, get_albert_model, AlbertModel"
   ]
  },
  {
   "cell_type": "code",
   "execution_count": 39,
   "metadata": {},
   "outputs": [],
   "source": [
    "config_path = 'models/assets/albert_config.json'\n",
    "max_seq_length = 300\n",
    "weight_path = 'models/tf2_model.h5'"
   ]
  },
  {
   "cell_type": "code",
   "execution_count": 38,
   "metadata": {},
   "outputs": [],
   "source": [
    "def build_albert_model(max_seq_length, config_path, weight_path=None):\n",
    "    albert_config = AlbertConfig.from_json_file(config_path)\n",
    "    input_word_ids = tf.keras.layers.Input(\n",
    "        shape=(max_seq_length,), dtype=tf.int32, name='input_word_ids')\n",
    "    input_mask = tf.keras.layers.Input(\n",
    "        shape=(max_seq_length,), dtype=tf.int32, name='input_mask')\n",
    "    input_type_ids = tf.keras.layers.Input(\n",
    "        shape=(max_seq_length,), dtype=tf.int32, name='input_type_ids')\n",
    "    \n",
    "    model = get_albert_model(input_word_ids, input_mask, input_type_ids, albert_config)\n",
    "    \n",
    "    if weight_path != None:\n",
    "        print('Weight Loading from ...', weight_path)\n",
    "        model.load_weights(weight_path) \n",
    "    \n",
    "    return model"
   ]
  },
  {
   "cell_type": "code",
   "execution_count": 40,
   "metadata": {},
   "outputs": [
    {
     "name": "stdout",
     "output_type": "stream",
     "text": [
      "Weight Loading from ... models/tf2_model.h5\n"
     ]
    }
   ],
   "source": [
    "albert_model = build_albert_model(max_seq_length, config_path, weight_path)"
   ]
  },
  {
   "cell_type": "code",
   "execution_count": 41,
   "metadata": {},
   "outputs": [
    {
     "name": "stdout",
     "output_type": "stream",
     "text": [
      "Model: \"model_2\"\n",
      "__________________________________________________________________________________________________\n",
      "Layer (type)                    Output Shape         Param #     Connected to                     \n",
      "==================================================================================================\n",
      "input_word_ids (InputLayer)     [(None, 300)]        0                                            \n",
      "__________________________________________________________________________________________________\n",
      "input_mask (InputLayer)         [(None, 300)]        0                                            \n",
      "__________________________________________________________________________________________________\n",
      "input_type_ids (InputLayer)     [(None, 300)]        0                                            \n",
      "__________________________________________________________________________________________________\n",
      "albert_model_2 (AlbertModel)    ((None, 4096), (None 222595584   input_word_ids[0][0]             \n",
      "                                                                 input_mask[0][0]                 \n",
      "                                                                 input_type_ids[0][0]             \n",
      "==================================================================================================\n",
      "Total params: 222,595,584\n",
      "Trainable params: 222,595,584\n",
      "Non-trainable params: 0\n",
      "__________________________________________________________________________________________________\n"
     ]
    }
   ],
   "source": [
    "albert_model.summary()"
   ]
  },
  {
   "cell_type": "code",
   "execution_count": 36,
   "metadata": {},
   "outputs": [
    {
     "data": {
      "text/plain": [
       "[<tf.Tensor 'albert_model_1/Identity:0' shape=(None, 4096) dtype=float32>,\n",
       " <tf.Tensor 'albert_model_1/Identity_1:0' shape=(None, 300, 4096) dtype=float32>]"
      ]
     },
     "execution_count": 36,
     "metadata": {},
     "output_type": "execute_result"
    }
   ],
   "source": [
    "albert_model.outputs"
   ]
  },
  {
   "cell_type": "code",
   "execution_count": 37,
   "metadata": {},
   "outputs": [
    {
     "data": {
      "text/plain": [
       "[<tf.Tensor 'input_word_ids_1:0' shape=(None, 300) dtype=int32>,\n",
       " <tf.Tensor 'input_mask_1:0' shape=(None, 300) dtype=int32>,\n",
       " <tf.Tensor 'input_type_ids_1:0' shape=(None, 300) dtype=int32>]"
      ]
     },
     "execution_count": 37,
     "metadata": {},
     "output_type": "execute_result"
    }
   ],
   "source": [
    "albert_model.inputs"
   ]
  },
  {
   "cell_type": "code",
   "execution_count": null,
   "metadata": {},
   "outputs": [],
   "source": []
  },
  {
   "cell_type": "code",
   "execution_count": null,
   "metadata": {},
   "outputs": [],
   "source": []
  },
  {
   "cell_type": "code",
   "execution_count": null,
   "metadata": {},
   "outputs": [],
   "source": []
  }
 ],
 "metadata": {
  "kernelspec": {
   "display_name": "Python 3",
   "language": "python",
   "name": "python3"
  },
  "language_info": {
   "codemirror_mode": {
    "name": "ipython",
    "version": 3
   },
   "file_extension": ".py",
   "mimetype": "text/x-python",
   "name": "python",
   "nbconvert_exporter": "python",
   "pygments_lexer": "ipython3",
   "version": "3.7.5"
  }
 },
 "nbformat": 4,
 "nbformat_minor": 2
}
